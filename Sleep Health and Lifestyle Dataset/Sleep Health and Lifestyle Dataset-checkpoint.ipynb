{
 "cells": [
  {
   "cell_type": "code",
   "execution_count": 1,
   "id": "b136a9fe",
   "metadata": {},
   "outputs": [],
   "source": [
    "import pandas as pd"
   ]
  },
  {
   "cell_type": "code",
   "execution_count": 2,
   "id": "0f518af8",
   "metadata": {},
   "outputs": [],
   "source": [
    "archive = \"Sleep_health_dataset.csv\"\n",
    "df = pd.read_csv(archive,index_col='Person ID')"
   ]
  },
  {
   "cell_type": "code",
   "execution_count": 3,
   "id": "48d7b912",
   "metadata": {
    "scrolled": true
   },
   "outputs": [
    {
     "data": {
      "text/html": [
       "<div>\n",
       "<style scoped>\n",
       "    .dataframe tbody tr th:only-of-type {\n",
       "        vertical-align: middle;\n",
       "    }\n",
       "\n",
       "    .dataframe tbody tr th {\n",
       "        vertical-align: top;\n",
       "    }\n",
       "\n",
       "    .dataframe thead th {\n",
       "        text-align: right;\n",
       "    }\n",
       "</style>\n",
       "<table border=\"1\" class=\"dataframe\">\n",
       "  <thead>\n",
       "    <tr style=\"text-align: right;\">\n",
       "      <th></th>\n",
       "      <th>Gender</th>\n",
       "      <th>Age</th>\n",
       "      <th>Occupation</th>\n",
       "      <th>Sleep Duration</th>\n",
       "      <th>Quality of Sleep</th>\n",
       "      <th>Physical Activity Level</th>\n",
       "      <th>Stress Level</th>\n",
       "      <th>BMI Category</th>\n",
       "      <th>Blood Pressure</th>\n",
       "      <th>Heart Rate</th>\n",
       "      <th>Daily Steps</th>\n",
       "      <th>Sleep Disorder</th>\n",
       "    </tr>\n",
       "    <tr>\n",
       "      <th>Person ID</th>\n",
       "      <th></th>\n",
       "      <th></th>\n",
       "      <th></th>\n",
       "      <th></th>\n",
       "      <th></th>\n",
       "      <th></th>\n",
       "      <th></th>\n",
       "      <th></th>\n",
       "      <th></th>\n",
       "      <th></th>\n",
       "      <th></th>\n",
       "      <th></th>\n",
       "    </tr>\n",
       "  </thead>\n",
       "  <tbody>\n",
       "    <tr>\n",
       "      <th>1</th>\n",
       "      <td>Male</td>\n",
       "      <td>27</td>\n",
       "      <td>Software Engineer</td>\n",
       "      <td>6.1</td>\n",
       "      <td>6</td>\n",
       "      <td>42</td>\n",
       "      <td>6</td>\n",
       "      <td>Overweight</td>\n",
       "      <td>126/83</td>\n",
       "      <td>77</td>\n",
       "      <td>4200</td>\n",
       "      <td>None</td>\n",
       "    </tr>\n",
       "    <tr>\n",
       "      <th>2</th>\n",
       "      <td>Male</td>\n",
       "      <td>28</td>\n",
       "      <td>Doctor</td>\n",
       "      <td>6.2</td>\n",
       "      <td>6</td>\n",
       "      <td>60</td>\n",
       "      <td>8</td>\n",
       "      <td>Normal</td>\n",
       "      <td>125/80</td>\n",
       "      <td>75</td>\n",
       "      <td>10000</td>\n",
       "      <td>None</td>\n",
       "    </tr>\n",
       "    <tr>\n",
       "      <th>3</th>\n",
       "      <td>Male</td>\n",
       "      <td>28</td>\n",
       "      <td>Doctor</td>\n",
       "      <td>6.2</td>\n",
       "      <td>6</td>\n",
       "      <td>60</td>\n",
       "      <td>8</td>\n",
       "      <td>Normal</td>\n",
       "      <td>125/80</td>\n",
       "      <td>75</td>\n",
       "      <td>10000</td>\n",
       "      <td>None</td>\n",
       "    </tr>\n",
       "    <tr>\n",
       "      <th>4</th>\n",
       "      <td>Male</td>\n",
       "      <td>28</td>\n",
       "      <td>Sales Representative</td>\n",
       "      <td>5.9</td>\n",
       "      <td>4</td>\n",
       "      <td>30</td>\n",
       "      <td>8</td>\n",
       "      <td>Obese</td>\n",
       "      <td>140/90</td>\n",
       "      <td>85</td>\n",
       "      <td>3000</td>\n",
       "      <td>Sleep Apnea</td>\n",
       "    </tr>\n",
       "    <tr>\n",
       "      <th>5</th>\n",
       "      <td>Male</td>\n",
       "      <td>28</td>\n",
       "      <td>Sales Representative</td>\n",
       "      <td>5.9</td>\n",
       "      <td>4</td>\n",
       "      <td>30</td>\n",
       "      <td>8</td>\n",
       "      <td>Obese</td>\n",
       "      <td>140/90</td>\n",
       "      <td>85</td>\n",
       "      <td>3000</td>\n",
       "      <td>Sleep Apnea</td>\n",
       "    </tr>\n",
       "  </tbody>\n",
       "</table>\n",
       "</div>"
      ],
      "text/plain": [
       "          Gender  Age            Occupation  Sleep Duration  Quality of Sleep  \\\n",
       "Person ID                                                                       \n",
       "1           Male   27     Software Engineer             6.1                 6   \n",
       "2           Male   28                Doctor             6.2                 6   \n",
       "3           Male   28                Doctor             6.2                 6   \n",
       "4           Male   28  Sales Representative             5.9                 4   \n",
       "5           Male   28  Sales Representative             5.9                 4   \n",
       "\n",
       "           Physical Activity Level  Stress Level BMI Category Blood Pressure  \\\n",
       "Person ID                                                                      \n",
       "1                               42             6   Overweight         126/83   \n",
       "2                               60             8       Normal         125/80   \n",
       "3                               60             8       Normal         125/80   \n",
       "4                               30             8        Obese         140/90   \n",
       "5                               30             8        Obese         140/90   \n",
       "\n",
       "           Heart Rate  Daily Steps Sleep Disorder  \n",
       "Person ID                                          \n",
       "1                  77         4200           None  \n",
       "2                  75        10000           None  \n",
       "3                  75        10000           None  \n",
       "4                  85         3000    Sleep Apnea  \n",
       "5                  85         3000    Sleep Apnea  "
      ]
     },
     "execution_count": 3,
     "metadata": {},
     "output_type": "execute_result"
    }
   ],
   "source": [
    "df.head()"
   ]
  },
  {
   "cell_type": "code",
   "execution_count": 4,
   "id": "fb340e58",
   "metadata": {},
   "outputs": [
    {
     "data": {
      "text/html": [
       "<div>\n",
       "<style scoped>\n",
       "    .dataframe tbody tr th:only-of-type {\n",
       "        vertical-align: middle;\n",
       "    }\n",
       "\n",
       "    .dataframe tbody tr th {\n",
       "        vertical-align: top;\n",
       "    }\n",
       "\n",
       "    .dataframe thead th {\n",
       "        text-align: right;\n",
       "    }\n",
       "</style>\n",
       "<table border=\"1\" class=\"dataframe\">\n",
       "  <thead>\n",
       "    <tr style=\"text-align: right;\">\n",
       "      <th></th>\n",
       "      <th>Gender</th>\n",
       "      <th>Age</th>\n",
       "      <th>Occupation</th>\n",
       "      <th>Sleep Duration</th>\n",
       "      <th>Quality of Sleep</th>\n",
       "      <th>Physical Activity Level</th>\n",
       "      <th>Stress Level</th>\n",
       "      <th>BMI Category</th>\n",
       "      <th>Blood Pressure</th>\n",
       "      <th>Heart Rate</th>\n",
       "      <th>Daily Steps</th>\n",
       "      <th>Sleep Disorder</th>\n",
       "    </tr>\n",
       "    <tr>\n",
       "      <th>Person ID</th>\n",
       "      <th></th>\n",
       "      <th></th>\n",
       "      <th></th>\n",
       "      <th></th>\n",
       "      <th></th>\n",
       "      <th></th>\n",
       "      <th></th>\n",
       "      <th></th>\n",
       "      <th></th>\n",
       "      <th></th>\n",
       "      <th></th>\n",
       "      <th></th>\n",
       "    </tr>\n",
       "  </thead>\n",
       "  <tbody>\n",
       "    <tr>\n",
       "      <th>370</th>\n",
       "      <td>Female</td>\n",
       "      <td>59</td>\n",
       "      <td>Nurse</td>\n",
       "      <td>8.1</td>\n",
       "      <td>9</td>\n",
       "      <td>75</td>\n",
       "      <td>3</td>\n",
       "      <td>Overweight</td>\n",
       "      <td>140/95</td>\n",
       "      <td>68</td>\n",
       "      <td>7000</td>\n",
       "      <td>Sleep Apnea</td>\n",
       "    </tr>\n",
       "    <tr>\n",
       "      <th>371</th>\n",
       "      <td>Female</td>\n",
       "      <td>59</td>\n",
       "      <td>Nurse</td>\n",
       "      <td>8.0</td>\n",
       "      <td>9</td>\n",
       "      <td>75</td>\n",
       "      <td>3</td>\n",
       "      <td>Overweight</td>\n",
       "      <td>140/95</td>\n",
       "      <td>68</td>\n",
       "      <td>7000</td>\n",
       "      <td>Sleep Apnea</td>\n",
       "    </tr>\n",
       "    <tr>\n",
       "      <th>372</th>\n",
       "      <td>Female</td>\n",
       "      <td>59</td>\n",
       "      <td>Nurse</td>\n",
       "      <td>8.1</td>\n",
       "      <td>9</td>\n",
       "      <td>75</td>\n",
       "      <td>3</td>\n",
       "      <td>Overweight</td>\n",
       "      <td>140/95</td>\n",
       "      <td>68</td>\n",
       "      <td>7000</td>\n",
       "      <td>Sleep Apnea</td>\n",
       "    </tr>\n",
       "    <tr>\n",
       "      <th>373</th>\n",
       "      <td>Female</td>\n",
       "      <td>59</td>\n",
       "      <td>Nurse</td>\n",
       "      <td>8.1</td>\n",
       "      <td>9</td>\n",
       "      <td>75</td>\n",
       "      <td>3</td>\n",
       "      <td>Overweight</td>\n",
       "      <td>140/95</td>\n",
       "      <td>68</td>\n",
       "      <td>7000</td>\n",
       "      <td>Sleep Apnea</td>\n",
       "    </tr>\n",
       "    <tr>\n",
       "      <th>374</th>\n",
       "      <td>Female</td>\n",
       "      <td>59</td>\n",
       "      <td>Nurse</td>\n",
       "      <td>8.1</td>\n",
       "      <td>9</td>\n",
       "      <td>75</td>\n",
       "      <td>3</td>\n",
       "      <td>Overweight</td>\n",
       "      <td>140/95</td>\n",
       "      <td>68</td>\n",
       "      <td>7000</td>\n",
       "      <td>Sleep Apnea</td>\n",
       "    </tr>\n",
       "  </tbody>\n",
       "</table>\n",
       "</div>"
      ],
      "text/plain": [
       "           Gender  Age Occupation  Sleep Duration  Quality of Sleep  \\\n",
       "Person ID                                                             \n",
       "370        Female   59      Nurse             8.1                 9   \n",
       "371        Female   59      Nurse             8.0                 9   \n",
       "372        Female   59      Nurse             8.1                 9   \n",
       "373        Female   59      Nurse             8.1                 9   \n",
       "374        Female   59      Nurse             8.1                 9   \n",
       "\n",
       "           Physical Activity Level  Stress Level BMI Category Blood Pressure  \\\n",
       "Person ID                                                                      \n",
       "370                             75             3   Overweight         140/95   \n",
       "371                             75             3   Overweight         140/95   \n",
       "372                             75             3   Overweight         140/95   \n",
       "373                             75             3   Overweight         140/95   \n",
       "374                             75             3   Overweight         140/95   \n",
       "\n",
       "           Heart Rate  Daily Steps Sleep Disorder  \n",
       "Person ID                                          \n",
       "370                68         7000    Sleep Apnea  \n",
       "371                68         7000    Sleep Apnea  \n",
       "372                68         7000    Sleep Apnea  \n",
       "373                68         7000    Sleep Apnea  \n",
       "374                68         7000    Sleep Apnea  "
      ]
     },
     "execution_count": 4,
     "metadata": {},
     "output_type": "execute_result"
    }
   ],
   "source": [
    "df.tail()"
   ]
  },
  {
   "cell_type": "code",
   "execution_count": 5,
   "id": "52ec51b5",
   "metadata": {},
   "outputs": [
    {
     "name": "stdout",
     "output_type": "stream",
     "text": [
      "<class 'pandas.core.frame.DataFrame'>\n",
      "Int64Index: 374 entries, 1 to 374\n",
      "Data columns (total 12 columns):\n",
      " #   Column                   Non-Null Count  Dtype  \n",
      "---  ------                   --------------  -----  \n",
      " 0   Gender                   374 non-null    object \n",
      " 1   Age                      374 non-null    int64  \n",
      " 2   Occupation               374 non-null    object \n",
      " 3   Sleep Duration           374 non-null    float64\n",
      " 4   Quality of Sleep         374 non-null    int64  \n",
      " 5   Physical Activity Level  374 non-null    int64  \n",
      " 6   Stress Level             374 non-null    int64  \n",
      " 7   BMI Category             374 non-null    object \n",
      " 8   Blood Pressure           374 non-null    object \n",
      " 9   Heart Rate               374 non-null    int64  \n",
      " 10  Daily Steps              374 non-null    int64  \n",
      " 11  Sleep Disorder           374 non-null    object \n",
      "dtypes: float64(1), int64(6), object(5)\n",
      "memory usage: 38.0+ KB\n"
     ]
    }
   ],
   "source": [
    "df.info()"
   ]
  },
  {
   "cell_type": "code",
   "execution_count": 6,
   "id": "5d52fb5b",
   "metadata": {
    "scrolled": true
   },
   "outputs": [
    {
     "data": {
      "text/plain": [
       "Gender                     0\n",
       "Age                        0\n",
       "Occupation                 0\n",
       "Sleep Duration             0\n",
       "Quality of Sleep           0\n",
       "Physical Activity Level    0\n",
       "Stress Level               0\n",
       "BMI Category               0\n",
       "Blood Pressure             0\n",
       "Heart Rate                 0\n",
       "Daily Steps                0\n",
       "Sleep Disorder             0\n",
       "dtype: int64"
      ]
     },
     "execution_count": 6,
     "metadata": {},
     "output_type": "execute_result"
    }
   ],
   "source": [
    "df.isnull().sum()"
   ]
  },
  {
   "cell_type": "code",
   "execution_count": 7,
   "id": "0ac4fe8a",
   "metadata": {
    "scrolled": true
   },
   "outputs": [
    {
     "data": {
      "text/plain": [
       "Male      189\n",
       "Female    185\n",
       "Name: Gender, dtype: int64"
      ]
     },
     "execution_count": 7,
     "metadata": {},
     "output_type": "execute_result"
    }
   ],
   "source": [
    "df['Gender'].value_counts()"
   ]
  },
  {
   "cell_type": "code",
   "execution_count": 8,
   "id": "19d7f22c",
   "metadata": {},
   "outputs": [
    {
     "data": {
      "text/plain": [
       "43    34\n",
       "44    30\n",
       "37    20\n",
       "38    20\n",
       "50    20\n",
       "31    18\n",
       "32    17\n",
       "53    17\n",
       "59    16\n",
       "39    15\n",
       "45    14\n",
       "33    13\n",
       "30    13\n",
       "29    13\n",
       "35    12\n",
       "36    12\n",
       "41    12\n",
       "49    11\n",
       "57     9\n",
       "52     9\n",
       "42     9\n",
       "51     8\n",
       "54     7\n",
       "58     6\n",
       "28     5\n",
       "40     4\n",
       "48     3\n",
       "55     2\n",
       "56     2\n",
       "34     2\n",
       "27     1\n",
       "Name: Age, dtype: int64"
      ]
     },
     "execution_count": 8,
     "metadata": {},
     "output_type": "execute_result"
    }
   ],
   "source": [
    "df['Age'].value_counts()"
   ]
  },
  {
   "cell_type": "code",
   "execution_count": 9,
   "id": "4b045e81",
   "metadata": {
    "scrolled": true
   },
   "outputs": [
    {
     "name": "stdout",
     "output_type": "stream",
     "text": [
      "minimum age value: 27\n",
      "maximum age value: 59\n",
      "middle age value: 42\n",
      "age value that appears the most: 43\n"
     ]
    }
   ],
   "source": [
    "print(f\"minimum age value: {df['Age'].min()}\")\n",
    "print(f\"maximum age value: {df['Age'].max()}\")\n",
    "print(f\"middle age value: {df['Age'].mean():.0f}\")\n",
    "print(f\"age value that appears the most: {df['Age'].mode().iloc[0]}\")"
   ]
  },
  {
   "cell_type": "code",
   "execution_count": 10,
   "id": "f5816e27",
   "metadata": {
    "scrolled": true
   },
   "outputs": [
    {
     "name": "stdout",
     "output_type": "stream",
     "text": [
      "Software Engineer\n",
      "Doctor\n",
      "Sales Representative\n",
      "Teacher\n",
      "Nurse\n",
      "Engineer\n",
      "Accountant\n",
      "Scientist\n",
      "Lawyer\n",
      "Salesperson\n",
      "Manager\n"
     ]
    }
   ],
   "source": [
    "print('\\n'.join(df['Occupation'].unique()))"
   ]
  },
  {
   "cell_type": "code",
   "execution_count": 11,
   "id": "3bccf5c8",
   "metadata": {},
   "outputs": [
    {
     "data": {
      "text/plain": [
       "Nurse                   73\n",
       "Doctor                  71\n",
       "Engineer                63\n",
       "Lawyer                  47\n",
       "Teacher                 40\n",
       "Accountant              37\n",
       "Salesperson             32\n",
       "Software Engineer        4\n",
       "Scientist                4\n",
       "Sales Representative     2\n",
       "Manager                  1\n",
       "Name: Occupation, dtype: int64"
      ]
     },
     "execution_count": 11,
     "metadata": {},
     "output_type": "execute_result"
    }
   ],
   "source": [
    "df['Occupation'].value_counts()"
   ]
  },
  {
   "cell_type": "code",
   "execution_count": 12,
   "id": "60f012e9",
   "metadata": {},
   "outputs": [
    {
     "data": {
      "text/plain": [
       "7.2    36\n",
       "6.0    31\n",
       "7.8    28\n",
       "6.5    26\n",
       "6.1    25\n",
       "7.7    24\n",
       "6.6    20\n",
       "7.1    19\n",
       "8.1    15\n",
       "7.3    14\n",
       "8.4    14\n",
       "6.3    13\n",
       "8.5    13\n",
       "8.0    13\n",
       "6.2    12\n",
       "8.2    11\n",
       "7.6    10\n",
       "6.4     9\n",
       "7.9     7\n",
       "7.4     5\n",
       "6.7     5\n",
       "7.5     5\n",
       "6.8     5\n",
       "8.3     5\n",
       "5.9     4\n",
       "6.9     3\n",
       "5.8     2\n",
       "Name: Sleep Duration, dtype: int64"
      ]
     },
     "execution_count": 12,
     "metadata": {},
     "output_type": "execute_result"
    }
   ],
   "source": [
    "df['Sleep Duration'].value_counts()"
   ]
  },
  {
   "cell_type": "code",
   "execution_count": 13,
   "id": "207f50e7",
   "metadata": {
    "scrolled": false
   },
   "outputs": [
    {
     "name": "stdout",
     "output_type": "stream",
     "text": [
      "minimum sleep duration value: 5.8\n",
      "maximum sleep duration value: 8.5\n",
      "middle sleep duration value: 7.1\n",
      "sleep duration value that appears the most: 7.2\n"
     ]
    }
   ],
   "source": [
    "print(f\"minimum sleep duration value: {df['Sleep Duration'].min()}\")\n",
    "print(f\"maximum sleep duration value: {df['Sleep Duration'].max()}\")\n",
    "print(f\"middle sleep duration value: {df['Sleep Duration'].mean():.1f}\")\n",
    "print(f\"sleep duration value that appears the most: {df['Sleep Duration'].mode().iloc[0]}\")"
   ]
  },
  {
   "cell_type": "code",
   "execution_count": 16,
   "id": "3e437d00",
   "metadata": {},
   "outputs": [
    {
     "data": {
      "text/plain": [
       "8    109\n",
       "6    105\n",
       "7     77\n",
       "9     71\n",
       "5      7\n",
       "4      5\n",
       "Name: Quality of Sleep, dtype: int64"
      ]
     },
     "execution_count": 16,
     "metadata": {},
     "output_type": "execute_result"
    }
   ],
   "source": [
    "df['Quality of Sleep'].value_counts()"
   ]
  },
  {
   "cell_type": "code",
   "execution_count": 19,
   "id": "8a16c378",
   "metadata": {},
   "outputs": [
    {
     "name": "stdout",
     "output_type": "stream",
     "text": [
      "minimum quality of sleep value: 4\n",
      "maximum quality of sleep value: 9\n",
      "middle quality of sleep value: 7\n",
      "quality of sleep value that appears the most: 8\n"
     ]
    }
   ],
   "source": [
    "print(f\"minimum quality of sleep value: {df['Quality of Sleep'].min()}\")\n",
    "print(f\"maximum quality of sleep value: {df['Quality of Sleep'].max()}\")\n",
    "print(f\"middle quality of sleep value: {df['Quality of Sleep'].mean():.0f}\")\n",
    "print(f\"quality of sleep value that appears the most: {df['Quality of Sleep'].mode().iloc[0]}\")"
   ]
  },
  {
   "cell_type": "code",
   "execution_count": 20,
   "id": "61bf31b6",
   "metadata": {},
   "outputs": [
    {
     "data": {
      "text/plain": [
       "60    70\n",
       "30    68\n",
       "45    68\n",
       "75    67\n",
       "90    67\n",
       "40     6\n",
       "55     6\n",
       "35     4\n",
       "50     4\n",
       "70     3\n",
       "42     2\n",
       "32     2\n",
       "80     2\n",
       "65     2\n",
       "85     2\n",
       "47     1\n",
       "Name: Physical Activity Level, dtype: int64"
      ]
     },
     "execution_count": 20,
     "metadata": {},
     "output_type": "execute_result"
    }
   ],
   "source": [
    "df['Physical Activity Level'].value_counts()"
   ]
  },
  {
   "cell_type": "code",
   "execution_count": 21,
   "id": "55773102",
   "metadata": {},
   "outputs": [
    {
     "name": "stdout",
     "output_type": "stream",
     "text": [
      "minimum physical activity level value: 30\n",
      "maximum physical activity level value: 90\n",
      "middle physical activity level value: 59\n",
      "physical activity level value that appears the most: 60\n"
     ]
    }
   ],
   "source": [
    "print(f\"minimum physical activity level value: {df['Physical Activity Level'].min()}\")\n",
    "print(f\"maximum physical activity level value: {df['Physical Activity Level'].max()}\")\n",
    "print(f\"middle physical activity level value: {df['Physical Activity Level'].mean():.0f}\")\n",
    "print(f\"physical activity level value that appears the most: {df['Physical Activity Level'].mode().iloc[0]}\")"
   ]
  },
  {
   "cell_type": "code",
   "execution_count": 22,
   "id": "10e1975e",
   "metadata": {},
   "outputs": [
    {
     "data": {
      "text/plain": [
       "3    71\n",
       "8    70\n",
       "4    70\n",
       "5    67\n",
       "7    50\n",
       "6    46\n",
       "Name: Stress Level, dtype: int64"
      ]
     },
     "execution_count": 22,
     "metadata": {},
     "output_type": "execute_result"
    }
   ],
   "source": [
    "df['Stress Level'].value_counts()"
   ]
  },
  {
   "cell_type": "code",
   "execution_count": 23,
   "id": "f4b98a04",
   "metadata": {},
   "outputs": [
    {
     "name": "stdout",
     "output_type": "stream",
     "text": [
      "minimum stress value: 3\n",
      "maximum stress value: 8\n",
      "middle stress value: 5\n",
      "stress value that appears the most: 3\n"
     ]
    }
   ],
   "source": [
    "print(f\"minimum stress value: {df['Stress Level'].min()}\")\n",
    "print(f\"maximum stress value: {df['Stress Level'].max()}\")\n",
    "print(f\"middle stress value: {df['Stress Level'].mean():.0f}\")\n",
    "print(f\"stress value that appears the most: {df['Stress Level'].mode().iloc[0]}\")"
   ]
  },
  {
   "cell_type": "code",
   "execution_count": 14,
   "id": "b49d5b03",
   "metadata": {
    "scrolled": true
   },
   "outputs": [
    {
     "name": "stdout",
     "output_type": "stream",
     "text": [
      "Overweight\n",
      "Normal\n",
      "Obese\n",
      "Normal Weight\n"
     ]
    }
   ],
   "source": [
    "print('\\n'.join(df['BMI Category'].unique()))"
   ]
  },
  {
   "cell_type": "code",
   "execution_count": 24,
   "id": "34981a77",
   "metadata": {},
   "outputs": [
    {
     "data": {
      "text/plain": [
       "Normal           195\n",
       "Overweight       148\n",
       "Normal Weight     21\n",
       "Obese             10\n",
       "Name: BMI Category, dtype: int64"
      ]
     },
     "execution_count": 24,
     "metadata": {},
     "output_type": "execute_result"
    }
   ],
   "source": [
    "df['BMI Category'].value_counts()"
   ]
  },
  {
   "cell_type": "code",
   "execution_count": 25,
   "id": "5ca14e56",
   "metadata": {},
   "outputs": [
    {
     "data": {
      "text/plain": [
       "68    94\n",
       "70    76\n",
       "72    69\n",
       "65    67\n",
       "75    36\n",
       "78     5\n",
       "85     3\n",
       "80     3\n",
       "84     2\n",
       "83     2\n",
       "73     2\n",
       "67     2\n",
       "74     2\n",
       "77     2\n",
       "81     2\n",
       "76     2\n",
       "69     2\n",
       "86     2\n",
       "82     1\n",
       "Name: Heart Rate, dtype: int64"
      ]
     },
     "execution_count": 25,
     "metadata": {},
     "output_type": "execute_result"
    }
   ],
   "source": [
    "df['Heart Rate'].value_counts()"
   ]
  },
  {
   "cell_type": "code",
   "execution_count": 26,
   "id": "9af1478a",
   "metadata": {},
   "outputs": [
    {
     "name": "stdout",
     "output_type": "stream",
     "text": [
      "minimum heart rate value: 65\n",
      "maximum heart rate value: 86\n",
      "middle heart rate value: 70\n",
      "heart rate value that appears the most: 68\n"
     ]
    }
   ],
   "source": [
    "print(f\"minimum heart rate value: {df['Heart Rate'].min()}\")\n",
    "print(f\"maximum heart rate value: {df['Heart Rate'].max()}\")\n",
    "print(f\"middle heart rate value: {df['Heart Rate'].mean():.0f}\")\n",
    "print(f\"heart rate value that appears the most: {df['Heart Rate'].mode().iloc[0]}\")"
   ]
  },
  {
   "cell_type": "code",
   "execution_count": 27,
   "id": "b1975a6f",
   "metadata": {},
   "outputs": [
    {
     "data": {
      "text/plain": [
       "8000     101\n",
       "6000      68\n",
       "5000      68\n",
       "7000      66\n",
       "10000     36\n",
       "5500       4\n",
       "3000       3\n",
       "3500       3\n",
       "4000       3\n",
       "6800       3\n",
       "4800       2\n",
       "7300       2\n",
       "7500       2\n",
       "4200       2\n",
       "3300       2\n",
       "5600       2\n",
       "5200       2\n",
       "4100       2\n",
       "3700       2\n",
       "6200       1\n",
       "Name: Daily Steps, dtype: int64"
      ]
     },
     "execution_count": 27,
     "metadata": {},
     "output_type": "execute_result"
    }
   ],
   "source": [
    "df['Daily Steps'].value_counts()"
   ]
  },
  {
   "cell_type": "code",
   "execution_count": 28,
   "id": "43dbf1ec",
   "metadata": {},
   "outputs": [
    {
     "name": "stdout",
     "output_type": "stream",
     "text": [
      "minimum daily steps value: 3000\n",
      "maximum daily steps value: 10000\n",
      "middle daily steps value: 6817\n",
      "daily steps value that appears the most: 8000\n"
     ]
    }
   ],
   "source": [
    "print(f\"minimum daily steps value: {df['Daily Steps'].min()}\")\n",
    "print(f\"maximum daily steps value: {df['Daily Steps'].max()}\")\n",
    "print(f\"middle daily steps value: {df['Daily Steps'].mean():.0f}\")\n",
    "print(f\"daily steps value that appears the most: {df['Daily Steps'].mode().iloc[0]}\")"
   ]
  },
  {
   "cell_type": "code",
   "execution_count": 31,
   "id": "cbbf8bd1",
   "metadata": {
    "scrolled": true
   },
   "outputs": [
    {
     "data": {
      "text/plain": [
       "130/85    99\n",
       "140/95    65\n",
       "125/80    65\n",
       "120/80    45\n",
       "115/75    32\n",
       "135/90    27\n",
       "140/90     4\n",
       "125/82     4\n",
       "132/87     3\n",
       "128/85     3\n",
       "126/83     2\n",
       "115/78     2\n",
       "139/91     2\n",
       "142/92     2\n",
       "119/77     2\n",
       "135/88     2\n",
       "129/84     2\n",
       "128/84     2\n",
       "131/86     2\n",
       "117/76     2\n",
       "130/86     2\n",
       "118/75     2\n",
       "121/79     1\n",
       "122/80     1\n",
       "118/76     1\n",
       "Name: Blood Pressure, dtype: int64"
      ]
     },
     "execution_count": 31,
     "metadata": {},
     "output_type": "execute_result"
    }
   ],
   "source": [
    "df['Blood Pressure'].value_counts()"
   ]
  },
  {
   "cell_type": "code",
   "execution_count": 15,
   "id": "ca2bc65c",
   "metadata": {},
   "outputs": [
    {
     "name": "stdout",
     "output_type": "stream",
     "text": [
      "None\n",
      "Sleep Apnea\n",
      "Insomnia\n"
     ]
    }
   ],
   "source": [
    "print('\\n'.join(df['Sleep Disorder'].unique()))"
   ]
  },
  {
   "cell_type": "code",
   "execution_count": 29,
   "id": "3045cf40",
   "metadata": {
    "scrolled": true
   },
   "outputs": [
    {
     "data": {
      "text/plain": [
       "None           219\n",
       "Sleep Apnea     78\n",
       "Insomnia        77\n",
       "Name: Sleep Disorder, dtype: int64"
      ]
     },
     "execution_count": 29,
     "metadata": {},
     "output_type": "execute_result"
    }
   ],
   "source": [
    "df['Sleep Disorder'].value_counts()"
   ]
  }
 ],
 "metadata": {
  "kernelspec": {
   "display_name": "Python 3 (ipykernel)",
   "language": "python",
   "name": "python3"
  },
  "language_info": {
   "codemirror_mode": {
    "name": "ipython",
    "version": 3
   },
   "file_extension": ".py",
   "mimetype": "text/x-python",
   "name": "python",
   "nbconvert_exporter": "python",
   "pygments_lexer": "ipython3",
   "version": "3.10.9"
  }
 },
 "nbformat": 4,
 "nbformat_minor": 5
}
